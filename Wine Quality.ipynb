{
 "cells": [
  {
   "cell_type": "markdown",
   "metadata": {},
   "source": [
    "# Problem statement\n",
    "\n",
    "\n",
    "The purpose of this analysis is to predict the quality of a wine given its input variables. Use AUC (area under the receiver operating characteristic curve) as the evaluation metric. This analysis made use of several machine learning algorithms:\n",
    "- Grid Search CV\n",
    "- Pipelines\n",
    "- K-Neighbours Classifier\n",
    "- Logistic Regression\n",
    "- Voting Classifier\n",
    "All of which were from scikit-learn."
   ]
  },
  {
   "cell_type": "markdown",
   "metadata": {},
   "source": [
    "## Dataset\n",
    "\n",
    "The dataset was adapted from the Wine Quality Dataset (https://archive.ics.uci.edu/ml/datasets/Wine+Quality)\n",
    "\n",
    "### Attribute Information:\n",
    "\n",
    "For more information, read [Cortez et al., 2009: http://dx.doi.org/10.1016/j.dss.2009.05.016].\n",
    "\n",
    "Input variables (based on physicochemical tests):\n",
    "\n",
    "    1 - fixed acidity \n",
    "    2 - volatile acidity \n",
    "    3 - citric acid \n",
    "    4 - residual sugar \n",
    "    5 - chlorides \n",
    "    6 - free sulfur dioxide \n",
    "    7 - total sulfur dioxide \n",
    "    8 - density \n",
    "    9 - pH \n",
    "    10 - sulphates \n",
    "    11 - alcohol \n",
    "Output variable (based on sensory data):\n",
    "\n",
    "    12 - quality (0: normal wine, 1: good wine)\n",
    "    \n"
   ]
  },
  {
   "cell_type": "markdown",
   "metadata": {},
   "source": [
    "First, let's load and explore the dataset."
   ]
  },
  {
   "cell_type": "code",
   "execution_count": 24,
   "metadata": {},
   "outputs": [],
   "source": [
    "import numpy as np\n",
    "import pandas as pd\n",
    "import matplotlib.pyplot as plt\n",
    "import seaborn as sns\n",
    "\n",
    "np.random.seed = 42"
   ]
  },
  {
   "cell_type": "code",
   "execution_count": 25,
   "metadata": {},
   "outputs": [
    {
     "data": {
      "text/html": [
       "<div>\n",
       "<style scoped>\n",
       "    .dataframe tbody tr th:only-of-type {\n",
       "        vertical-align: middle;\n",
       "    }\n",
       "\n",
       "    .dataframe tbody tr th {\n",
       "        vertical-align: top;\n",
       "    }\n",
       "\n",
       "    .dataframe thead th {\n",
       "        text-align: right;\n",
       "    }\n",
       "</style>\n",
       "<table border=\"1\" class=\"dataframe\">\n",
       "  <thead>\n",
       "    <tr style=\"text-align: right;\">\n",
       "      <th></th>\n",
       "      <th>fixed_acidity</th>\n",
       "      <th>volatile_acidity</th>\n",
       "      <th>citric_acid</th>\n",
       "      <th>residual_sugar</th>\n",
       "      <th>chlorides</th>\n",
       "      <th>free_sulfur_dioxide</th>\n",
       "      <th>total_sulfur_dioxide</th>\n",
       "      <th>density</th>\n",
       "      <th>pH</th>\n",
       "      <th>sulphates</th>\n",
       "      <th>alcohol</th>\n",
       "      <th>quality</th>\n",
       "    </tr>\n",
       "  </thead>\n",
       "  <tbody>\n",
       "    <tr>\n",
       "      <th>0</th>\n",
       "      <td>7.0</td>\n",
       "      <td>0.27</td>\n",
       "      <td>0.36</td>\n",
       "      <td>20.7</td>\n",
       "      <td>0.045</td>\n",
       "      <td>45.0</td>\n",
       "      <td>170.0</td>\n",
       "      <td>1.0010</td>\n",
       "      <td>3.00</td>\n",
       "      <td>0.45</td>\n",
       "      <td>8.8</td>\n",
       "      <td>0</td>\n",
       "    </tr>\n",
       "    <tr>\n",
       "      <th>1</th>\n",
       "      <td>6.3</td>\n",
       "      <td>0.30</td>\n",
       "      <td>0.34</td>\n",
       "      <td>1.6</td>\n",
       "      <td>0.049</td>\n",
       "      <td>14.0</td>\n",
       "      <td>132.0</td>\n",
       "      <td>0.9940</td>\n",
       "      <td>3.30</td>\n",
       "      <td>0.49</td>\n",
       "      <td>9.5</td>\n",
       "      <td>0</td>\n",
       "    </tr>\n",
       "    <tr>\n",
       "      <th>2</th>\n",
       "      <td>8.1</td>\n",
       "      <td>0.28</td>\n",
       "      <td>0.40</td>\n",
       "      <td>6.9</td>\n",
       "      <td>0.050</td>\n",
       "      <td>30.0</td>\n",
       "      <td>97.0</td>\n",
       "      <td>0.9951</td>\n",
       "      <td>3.26</td>\n",
       "      <td>0.44</td>\n",
       "      <td>10.1</td>\n",
       "      <td>0</td>\n",
       "    </tr>\n",
       "    <tr>\n",
       "      <th>3</th>\n",
       "      <td>7.2</td>\n",
       "      <td>0.23</td>\n",
       "      <td>0.32</td>\n",
       "      <td>8.5</td>\n",
       "      <td>0.058</td>\n",
       "      <td>47.0</td>\n",
       "      <td>186.0</td>\n",
       "      <td>0.9956</td>\n",
       "      <td>3.19</td>\n",
       "      <td>0.40</td>\n",
       "      <td>9.9</td>\n",
       "      <td>0</td>\n",
       "    </tr>\n",
       "    <tr>\n",
       "      <th>4</th>\n",
       "      <td>7.2</td>\n",
       "      <td>0.23</td>\n",
       "      <td>0.32</td>\n",
       "      <td>8.5</td>\n",
       "      <td>0.058</td>\n",
       "      <td>47.0</td>\n",
       "      <td>186.0</td>\n",
       "      <td>0.9956</td>\n",
       "      <td>3.19</td>\n",
       "      <td>0.40</td>\n",
       "      <td>9.9</td>\n",
       "      <td>0</td>\n",
       "    </tr>\n",
       "  </tbody>\n",
       "</table>\n",
       "</div>"
      ],
      "text/plain": [
       "   fixed_acidity  volatile_acidity  citric_acid  residual_sugar  chlorides  \\\n",
       "0            7.0              0.27         0.36            20.7      0.045   \n",
       "1            6.3              0.30         0.34             1.6      0.049   \n",
       "2            8.1              0.28         0.40             6.9      0.050   \n",
       "3            7.2              0.23         0.32             8.5      0.058   \n",
       "4            7.2              0.23         0.32             8.5      0.058   \n",
       "\n",
       "   free_sulfur_dioxide  total_sulfur_dioxide  density    pH  sulphates  \\\n",
       "0                 45.0                 170.0   1.0010  3.00       0.45   \n",
       "1                 14.0                 132.0   0.9940  3.30       0.49   \n",
       "2                 30.0                  97.0   0.9951  3.26       0.44   \n",
       "3                 47.0                 186.0   0.9956  3.19       0.40   \n",
       "4                 47.0                 186.0   0.9956  3.19       0.40   \n",
       "\n",
       "   alcohol  quality  \n",
       "0      8.8        0  \n",
       "1      9.5        0  \n",
       "2     10.1        0  \n",
       "3      9.9        0  \n",
       "4      9.9        0  "
      ]
     },
     "execution_count": 25,
     "metadata": {},
     "output_type": "execute_result"
    }
   ],
   "source": [
    "data = pd.read_csv(\"whitewine.csv\")\n",
    "data.head()"
   ]
  },
  {
   "cell_type": "code",
   "execution_count": 26,
   "metadata": {},
   "outputs": [
    {
     "name": "stdout",
     "output_type": "stream",
     "text": [
      "<class 'pandas.core.frame.DataFrame'>\n",
      "RangeIndex: 4715 entries, 0 to 4714\n",
      "Data columns (total 12 columns):\n",
      "fixed_acidity           4715 non-null float64\n",
      "volatile_acidity        4715 non-null float64\n",
      "citric_acid             4715 non-null float64\n",
      "residual_sugar          4715 non-null float64\n",
      "chlorides               4715 non-null float64\n",
      "free_sulfur_dioxide     4715 non-null float64\n",
      "total_sulfur_dioxide    4715 non-null float64\n",
      "density                 4715 non-null float64\n",
      "pH                      4715 non-null float64\n",
      "sulphates               4715 non-null float64\n",
      "alcohol                 4715 non-null float64\n",
      "quality                 4715 non-null int64\n",
      "dtypes: float64(11), int64(1)\n",
      "memory usage: 442.1 KB\n"
     ]
    }
   ],
   "source": [
    "data.info()"
   ]
  },
  {
   "cell_type": "code",
   "execution_count": 27,
   "metadata": {},
   "outputs": [
    {
     "data": {
      "text/html": [
       "<div>\n",
       "<style scoped>\n",
       "    .dataframe tbody tr th:only-of-type {\n",
       "        vertical-align: middle;\n",
       "    }\n",
       "\n",
       "    .dataframe tbody tr th {\n",
       "        vertical-align: top;\n",
       "    }\n",
       "\n",
       "    .dataframe thead th {\n",
       "        text-align: right;\n",
       "    }\n",
       "</style>\n",
       "<table border=\"1\" class=\"dataframe\">\n",
       "  <thead>\n",
       "    <tr style=\"text-align: right;\">\n",
       "      <th></th>\n",
       "      <th>fixed_acidity</th>\n",
       "      <th>volatile_acidity</th>\n",
       "      <th>citric_acid</th>\n",
       "      <th>residual_sugar</th>\n",
       "      <th>chlorides</th>\n",
       "      <th>free_sulfur_dioxide</th>\n",
       "      <th>total_sulfur_dioxide</th>\n",
       "      <th>density</th>\n",
       "      <th>pH</th>\n",
       "      <th>sulphates</th>\n",
       "      <th>alcohol</th>\n",
       "      <th>quality</th>\n",
       "    </tr>\n",
       "  </thead>\n",
       "  <tbody>\n",
       "    <tr>\n",
       "      <th>count</th>\n",
       "      <td>4715.000000</td>\n",
       "      <td>4715.000000</td>\n",
       "      <td>4715.000000</td>\n",
       "      <td>4715.000000</td>\n",
       "      <td>4715.000000</td>\n",
       "      <td>4715.000000</td>\n",
       "      <td>4715.00000</td>\n",
       "      <td>4715.000000</td>\n",
       "      <td>4715.000000</td>\n",
       "      <td>4715.000000</td>\n",
       "      <td>4715.000000</td>\n",
       "      <td>4715.000000</td>\n",
       "    </tr>\n",
       "    <tr>\n",
       "      <th>mean</th>\n",
       "      <td>6.842131</td>\n",
       "      <td>0.274448</td>\n",
       "      <td>0.335220</td>\n",
       "      <td>6.452365</td>\n",
       "      <td>0.045587</td>\n",
       "      <td>35.644751</td>\n",
       "      <td>138.67614</td>\n",
       "      <td>0.994015</td>\n",
       "      <td>3.188456</td>\n",
       "      <td>0.490386</td>\n",
       "      <td>10.527493</td>\n",
       "      <td>0.224814</td>\n",
       "    </tr>\n",
       "    <tr>\n",
       "      <th>std</th>\n",
       "      <td>0.826105</td>\n",
       "      <td>0.095110</td>\n",
       "      <td>0.119301</td>\n",
       "      <td>5.089551</td>\n",
       "      <td>0.021521</td>\n",
       "      <td>16.134741</td>\n",
       "      <td>41.51303</td>\n",
       "      <td>0.003008</td>\n",
       "      <td>0.150290</td>\n",
       "      <td>0.113958</td>\n",
       "      <td>1.236029</td>\n",
       "      <td>0.417504</td>\n",
       "    </tr>\n",
       "    <tr>\n",
       "      <th>min</th>\n",
       "      <td>3.800000</td>\n",
       "      <td>0.080000</td>\n",
       "      <td>0.000000</td>\n",
       "      <td>0.600000</td>\n",
       "      <td>0.009000</td>\n",
       "      <td>2.000000</td>\n",
       "      <td>9.00000</td>\n",
       "      <td>0.987110</td>\n",
       "      <td>2.720000</td>\n",
       "      <td>0.220000</td>\n",
       "      <td>8.000000</td>\n",
       "      <td>0.000000</td>\n",
       "    </tr>\n",
       "    <tr>\n",
       "      <th>25%</th>\n",
       "      <td>6.300000</td>\n",
       "      <td>0.210000</td>\n",
       "      <td>0.270000</td>\n",
       "      <td>1.700000</td>\n",
       "      <td>0.036000</td>\n",
       "      <td>24.000000</td>\n",
       "      <td>109.00000</td>\n",
       "      <td>0.991700</td>\n",
       "      <td>3.090000</td>\n",
       "      <td>0.410000</td>\n",
       "      <td>9.500000</td>\n",
       "      <td>0.000000</td>\n",
       "    </tr>\n",
       "    <tr>\n",
       "      <th>50%</th>\n",
       "      <td>6.800000</td>\n",
       "      <td>0.260000</td>\n",
       "      <td>0.320000</td>\n",
       "      <td>5.300000</td>\n",
       "      <td>0.043000</td>\n",
       "      <td>34.000000</td>\n",
       "      <td>134.00000</td>\n",
       "      <td>0.993700</td>\n",
       "      <td>3.180000</td>\n",
       "      <td>0.480000</td>\n",
       "      <td>10.400000</td>\n",
       "      <td>0.000000</td>\n",
       "    </tr>\n",
       "    <tr>\n",
       "      <th>75%</th>\n",
       "      <td>7.300000</td>\n",
       "      <td>0.320000</td>\n",
       "      <td>0.390000</td>\n",
       "      <td>10.000000</td>\n",
       "      <td>0.050000</td>\n",
       "      <td>46.000000</td>\n",
       "      <td>167.00000</td>\n",
       "      <td>0.996100</td>\n",
       "      <td>3.280000</td>\n",
       "      <td>0.550000</td>\n",
       "      <td>11.400000</td>\n",
       "      <td>0.000000</td>\n",
       "    </tr>\n",
       "    <tr>\n",
       "      <th>max</th>\n",
       "      <td>14.200000</td>\n",
       "      <td>0.965000</td>\n",
       "      <td>1.660000</td>\n",
       "      <td>65.800000</td>\n",
       "      <td>0.346000</td>\n",
       "      <td>131.000000</td>\n",
       "      <td>344.00000</td>\n",
       "      <td>1.038980</td>\n",
       "      <td>3.820000</td>\n",
       "      <td>1.080000</td>\n",
       "      <td>14.200000</td>\n",
       "      <td>1.000000</td>\n",
       "    </tr>\n",
       "  </tbody>\n",
       "</table>\n",
       "</div>"
      ],
      "text/plain": [
       "       fixed_acidity  volatile_acidity  citric_acid  residual_sugar  \\\n",
       "count    4715.000000       4715.000000  4715.000000     4715.000000   \n",
       "mean        6.842131          0.274448     0.335220        6.452365   \n",
       "std         0.826105          0.095110     0.119301        5.089551   \n",
       "min         3.800000          0.080000     0.000000        0.600000   \n",
       "25%         6.300000          0.210000     0.270000        1.700000   \n",
       "50%         6.800000          0.260000     0.320000        5.300000   \n",
       "75%         7.300000          0.320000     0.390000       10.000000   \n",
       "max        14.200000          0.965000     1.660000       65.800000   \n",
       "\n",
       "         chlorides  free_sulfur_dioxide  total_sulfur_dioxide      density  \\\n",
       "count  4715.000000          4715.000000            4715.00000  4715.000000   \n",
       "mean      0.045587            35.644751             138.67614     0.994015   \n",
       "std       0.021521            16.134741              41.51303     0.003008   \n",
       "min       0.009000             2.000000               9.00000     0.987110   \n",
       "25%       0.036000            24.000000             109.00000     0.991700   \n",
       "50%       0.043000            34.000000             134.00000     0.993700   \n",
       "75%       0.050000            46.000000             167.00000     0.996100   \n",
       "max       0.346000           131.000000             344.00000     1.038980   \n",
       "\n",
       "                pH    sulphates      alcohol      quality  \n",
       "count  4715.000000  4715.000000  4715.000000  4715.000000  \n",
       "mean      3.188456     0.490386    10.527493     0.224814  \n",
       "std       0.150290     0.113958     1.236029     0.417504  \n",
       "min       2.720000     0.220000     8.000000     0.000000  \n",
       "25%       3.090000     0.410000     9.500000     0.000000  \n",
       "50%       3.180000     0.480000    10.400000     0.000000  \n",
       "75%       3.280000     0.550000    11.400000     0.000000  \n",
       "max       3.820000     1.080000    14.200000     1.000000  "
      ]
     },
     "execution_count": 27,
     "metadata": {},
     "output_type": "execute_result"
    }
   ],
   "source": [
    "data.describe()"
   ]
  },
  {
   "cell_type": "code",
   "execution_count": 28,
   "metadata": {},
   "outputs": [
    {
     "data": {
      "text/plain": [
       "fixed_acidity           0\n",
       "volatile_acidity        0\n",
       "citric_acid             0\n",
       "residual_sugar          0\n",
       "chlorides               0\n",
       "free_sulfur_dioxide     0\n",
       "total_sulfur_dioxide    0\n",
       "density                 0\n",
       "pH                      0\n",
       "sulphates               0\n",
       "alcohol                 0\n",
       "quality                 0\n",
       "dtype: int64"
      ]
     },
     "execution_count": 28,
     "metadata": {},
     "output_type": "execute_result"
    }
   ],
   "source": [
    "data.isnull().sum()"
   ]
  },
  {
   "cell_type": "markdown",
   "metadata": {},
   "source": [
    "The white wine dataset doesn't have any missing values/rows/cells for any of the variables/feature.\n",
    "It seems that data has been collected neatly or prior cleaning has been performed before publishing the dataset."
   ]
  },
  {
   "cell_type": "code",
   "execution_count": 29,
   "metadata": {},
   "outputs": [
    {
     "data": {
      "text/plain": [
       "0    3655\n",
       "1    1060\n",
       "Name: quality, dtype: int64"
      ]
     },
     "execution_count": 29,
     "metadata": {},
     "output_type": "execute_result"
    }
   ],
   "source": [
    "data[\"quality\"].value_counts()"
   ]
  },
  {
   "cell_type": "markdown",
   "metadata": {},
   "source": [
    "### Corelation between features/variables:"
   ]
  },
  {
   "cell_type": "code",
   "execution_count": 30,
   "metadata": {},
   "outputs": [
    {
     "data": {
      "text/plain": [
       "<matplotlib.axes._subplots.AxesSubplot at 0x1a269d4588>"
      ]
     },
     "execution_count": 30,
     "metadata": {},
     "output_type": "execute_result"
    },
    {
     "data": {
      "image/png": "[encoded data removed]",
      "text/plain": [
       "<Figure size 864x360 with 2 Axes>"
      ]
     },
     "metadata": {
      "needs_background": "light"
     },
     "output_type": "display_data"
    }
   ],
   "source": [
    "correlation = data.corr()\n",
    "plt.figure(figsize=(12, 5))\n",
    "sns.heatmap(correlation, annot=True, linewidths=0, vmin=-1, cmap=\"RdBu_r\")"
   ]
  },
  {
   "cell_type": "markdown",
   "metadata": {},
   "source": [
    "## Machine Learning"
   ]
  },
  {
   "cell_type": "markdown",
   "metadata": {},
   "source": [
    "**[1]. Split the given data using stratify sampling into 2 subsets: training (80%) and test (20%) sets. Use random_state = 42.**"
   ]
  },
  {
   "cell_type": "code",
   "execution_count": 31,
   "metadata": {},
   "outputs": [],
   "source": [
    "from sklearn.model_selection import train_test_split\n",
    "\n",
    "train, test = train_test_split(data, test_size=0.2, train_size=0.8, random_state=42, stratify=data['quality'])\n",
    "X_train = train.drop(columns=['quality'])\n",
    "y_train = train['quality']\n",
    "\n",
    "X_test = test.drop(columns=['quality'])\n",
    "y_test = test['quality']"
   ]
  },
  {
   "cell_type": "markdown",
   "metadata": {},
   "source": [
    "**[2]. Use ``GridSearchCV`` and ``Pipeline`` to tune hyper-parameters for 3 different classifiers including ``KNeighborsClassifier``, ``LogisticRegression`` and ``svm.SVC`` and report the corresponding AUC values on the training and test sets. Note that a scaler may need to be inserted into each pipeline.**"
   ]
  },
  {
   "cell_type": "code",
   "execution_count": 32,
   "metadata": {},
   "outputs": [
    {
     "name": "stdout",
     "output_type": "stream",
     "text": [
      "------------- LOGISTIC -------------\n",
      "Best parameters (logistic): {'model__penalty': 'l2', 'model__solver': 'liblinear', 'model__tol': 0.0001}\n",
      "Train AUC (logistic): 0.7714837196396768\n",
      "Test AUC (logistic): 0.7832124512815217\n",
      "\n",
      "------------- KNN -------------\n",
      "Best parameters (knn): {'model__algorithm': 'kd_tree', 'model__n_neighbors': 2}\n",
      "Train AUC (knn): 0.9827622086570478\n",
      "Test AUC (knn): 0.8370286245257208\n",
      "\n",
      "------------- SVM -------------\n",
      "Best parameters (svm): {'model__C': 1, 'model__gamma': 1}\n",
      "Train AUC (svm): 1.0\n",
      "Test AUC (svm): 0.8486113620524999\n",
      "\n"
     ]
    }
   ],
   "source": [
    "from sklearn.pipeline import Pipeline\n",
    "from sklearn.model_selection import GridSearchCV\n",
    "from sklearn.neighbors import KNeighborsClassifier\n",
    "from sklearn.linear_model import LogisticRegression\n",
    "from sklearn.svm import SVC\n",
    "from sklearn.metrics import roc_auc_score\n",
    "from sklearn.preprocessing import StandardScaler\n",
    "import warnings\n",
    "from sklearn.exceptions import ConvergenceWarning\n",
    "warnings.filterwarnings(action='ignore', category=ConvergenceWarning)\n",
    "warnings.filterwarnings(action='ignore', category=DeprecationWarning)\n",
    "\n",
    "logistic = LogisticRegression()\n",
    "pipe_logistic = Pipeline(steps=[('model', logistic)])\n",
    "param_grid = {\n",
    "    'model__penalty': ['l2'],\n",
    "    'model__tol': [1e-4],\n",
    "    'model__solver': ['lbfgs', 'liblinear', 'sag', 'saga'],\n",
    "}\n",
    "search_logistic = GridSearchCV(pipe_logistic, param_grid, iid=False, cv=5)\n",
    "search_logistic.fit(X_train, y_train)\n",
    "print('------------- LOGISTIC -------------')\n",
    "print('Best parameters (logistic):', search_logistic.best_params_)\n",
    "print('Train AUC (logistic):', roc_auc_score(y_train, search_logistic.predict_proba(X_train)[:,1]))\n",
    "print('Test AUC (logistic):', roc_auc_score(y_test, search_logistic.predict_proba(X_test)[:,1]))\n",
    "print()\n",
    "\n",
    "knn = KNeighborsClassifier()\n",
    "pipe_knn = Pipeline(steps=[('scale', StandardScaler()), ('model', knn)])\n",
    "param_grid = {\n",
    "    'model__n_neighbors': [2, 3, 4, 5, 6, 7, 8, 9, 10],\n",
    "    'model__algorithm': ['kd_tree'],\n",
    "}\n",
    "search_knn = GridSearchCV(pipe_knn, param_grid, iid=False, cv=5)\n",
    "search_knn.fit(X_train, y_train)\n",
    "print('------------- KNN -------------')\n",
    "print('Best parameters (knn):', search_knn.best_params_)\n",
    "print('Train AUC (knn):', roc_auc_score(y_train, search_knn.predict_proba(X_train)[:,1]))\n",
    "print('Test AUC (knn):', roc_auc_score(y_test, search_knn.predict_proba(X_test)[:,1]))\n",
    "print()\n",
    "\n",
    "svm = SVC(probability=True)\n",
    "pipe_svm = Pipeline(steps=[('model', svm)])\n",
    "param_grid = {\n",
    "    'model__C': [0.001, 0.01, 0.1, 1, 10],\n",
    "    'model__gamma': [0.001, 0.01, 0.1, 1],\n",
    "}\n",
    "search_svm = GridSearchCV(pipe_svm, param_grid, iid=False, cv=5)\n",
    "search_svm.fit(X_train, y_train)\n",
    "print('------------- SVM -------------')\n",
    "print('Best parameters (svm):', search_svm.best_params_)\n",
    "print('Train AUC (svm):', roc_auc_score(y_train, search_svm.predict_proba(X_train)[:,1]))\n",
    "print('Test AUC (svm):', roc_auc_score(y_test, search_svm.predict_proba(X_test)[:,1]))\n",
    "print()\n"
   ]
  },
  {
   "cell_type": "markdown",
   "metadata": {},
   "source": [
    "**[3]. Train a soft ``VotingClassifier`` with the estimators are the three tuned pipelines obtained from [2]. Report the AUC values on the training and test sets. Comment on the performance of the ensemble model.**\n",
    "\n",
    "Document: https://scikit-learn.org/stable/modules/generated/sklearn.ensemble.VotingClassifier.html#sklearn.ensemble.VotingClassifier"
   ]
  },
  {
   "cell_type": "code",
   "execution_count": 33,
   "metadata": {},
   "outputs": [
    {
     "name": "stderr",
     "output_type": "stream",
     "text": [
      "/anaconda3/lib/python3.7/site-packages/sklearn/linear_model/logistic.py:433: FutureWarning: Default solver will be changed to 'lbfgs' in 0.22. Specify a solver to silence this warning.\n",
      "  FutureWarning)\n",
      "/anaconda3/lib/python3.7/site-packages/sklearn/svm/base.py:196: FutureWarning: The default value of gamma will change from 'auto' to 'scale' in version 0.22 to account better for unscaled features. Set gamma explicitly to 'auto' or 'scale' to avoid this warning.\n",
      "  \"avoid this warning.\", FutureWarning)\n"
     ]
    },
    {
     "name": "stdout",
     "output_type": "stream",
     "text": [
      "------------- Voting Classifier -------------\n",
      "Train AUC (Ensemble): 0.9673090138863796\n",
      "Test AUC (Ensemble): 0.8938517925818856\n",
      "\n"
     ]
    }
   ],
   "source": [
    "from sklearn.ensemble import VotingClassifier\n",
    "\n",
    "ensemble = VotingClassifier([('logistic', pipe_logistic), ('knn', pipe_knn), ('svm', pipe_svm)], voting='soft')\n",
    "ensemble.fit(X_train, y_train)\n",
    "print('------------- Voting Classifier -------------')\n",
    "print('Train AUC (Ensemble):', roc_auc_score(y_train, ensemble.predict_proba(X_train)[:,1]))\n",
    "print('Test AUC (Ensemble):', roc_auc_score(y_test, ensemble.predict_proba(X_test)[:,1]))\n",
    "print()"
   ]
  },
  {
   "cell_type": "markdown",
   "metadata": {},
   "source": [
    "**[4]. Redo [3] with a sensible set of ``weights`` for the estimators. Comment on the performance of the ensemble model in this case.**"
   ]
  },
  {
   "cell_type": "code",
   "execution_count": 34,
   "metadata": {},
   "outputs": [
    {
     "name": "stderr",
     "output_type": "stream",
     "text": [
      "/anaconda3/lib/python3.7/site-packages/sklearn/linear_model/logistic.py:433: FutureWarning: Default solver will be changed to 'lbfgs' in 0.22. Specify a solver to silence this warning.\n",
      "  FutureWarning)\n",
      "/anaconda3/lib/python3.7/site-packages/sklearn/svm/base.py:196: FutureWarning: The default value of gamma will change from 'auto' to 'scale' in version 0.22 to account better for unscaled features. Set gamma explicitly to 'auto' or 'scale' to avoid this warning.\n",
      "  \"avoid this warning.\", FutureWarning)\n"
     ]
    },
    {
     "name": "stdout",
     "output_type": "stream",
     "text": [
      "------------- Voting Classifier -------------\n",
      "Train AUC (Ensemble): 0.9781331466329402\n",
      "Test AUC (Ensemble): 0.8956134011305269\n",
      "\n"
     ]
    }
   ],
   "source": [
    "from sklearn.ensemble import VotingClassifier\n",
    "\n",
    "ensemble = VotingClassifier([('logistic', pipe_logistic), ('knn', pipe_knn), ('svm', pipe_svm)], voting='soft', weights=[0.2, 0.25, 0.55])\n",
    "ensemble.fit(X_train, y_train)\n",
    "print('------------- Voting Classifier -------------')\n",
    "print('Train AUC (Ensemble):', roc_auc_score(y_train, ensemble.predict_proba(X_train)[:,1]))\n",
    "print('Test AUC (Ensemble):', roc_auc_score(y_test, ensemble.predict_proba(X_test)[:,1]))\n",
    "print()"
   ]
  },
  {
   "cell_type": "markdown",
   "metadata": {},
   "source": [
    "**[5] Use the ``VotingClassifier`` with ``GridSearchCV`` to tune the hyper-parameters of the individual estimators. The parameter grid should be a combination of those in [2]. Report the AUC values on the training and test sets. Comment on the performance of the ensemble model.**\n",
    "\n",
    "Document: https://scikit-learn.org/stable/modules/ensemble.html#using-the-votingclassifier-with-gridsearchcv"
   ]
  },
  {
   "cell_type": "code",
   "execution_count": 35,
   "metadata": {},
   "outputs": [
    {
     "name": "stdout",
     "output_type": "stream",
     "text": [
      "------------- Voting Classifier -------------\n",
      "Train AUC (Ensemble): 1.0\n",
      "Test AUC (Ensemble): 0.9207985958753839\n",
      "\n"
     ]
    }
   ],
   "source": [
    "param_grid = {\n",
    "    'logistic__model__penalty': ['l2'],\n",
    "    'logistic__model__tol': [1e-4],\n",
    "    'logistic__model__solver': ['lbfgs', 'liblinear'],\n",
    "    'knn__model__n_neighbors': [2, 3],\n",
    "    'knn__model__algorithm': ['kd_tree'],\n",
    "    'svm__model__C': [0.01, 1],\n",
    "    'svm__model__gamma': [0.01, 1],\n",
    "}\n",
    "search = GridSearchCV(ensemble, param_grid, iid=False, cv=5)\n",
    "search.fit(X_train, y_train)\n",
    "print('------------- Voting Classifier -------------')\n",
    "print('Train AUC (Ensemble):', roc_auc_score(y_train, search.predict_proba(X_train)[:,1]))\n",
    "print('Test AUC (Ensemble):', roc_auc_score(y_test, search.predict_proba(X_test)[:,1]))\n",
    "print()"
   ]
  },
  {
   "cell_type": "code",
   "execution_count": null,
   "metadata": {},
   "outputs": [],
   "source": []
  }
 ],
 "metadata": {
  "kernelspec": {
   "display_name": "Python 3",
   "language": "python",
   "name": "python3"
  },
  "language_info": {
   "codemirror_mode": {
    "name": "ipython",
    "version": 3
   },
   "file_extension": ".py",
   "mimetype": "text/x-python",
   "name": "python",
   "nbconvert_exporter": "python",
   "pygments_lexer": "ipython3",
   "version": "3.7.1"
  }
 },
 "nbformat": 4,
 "nbformat_minor": 2
}
